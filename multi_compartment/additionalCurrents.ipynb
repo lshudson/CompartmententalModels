{
 "cells": [
  {
   "cell_type": "code",
   "execution_count": 2,
   "metadata": {},
   "outputs": [],
   "source": [
    "import numpy as np\n",
    "from scipy.integrate import odeint\n",
    "import matplotlib.pyplot as plt\n",
    "from matplotlib import pyplot\n",
    "import math"
   ]
  },
  {
   "cell_type": "code",
   "execution_count": 3,
   "metadata": {},
   "outputs": [
    {
     "data": {
      "image/png": "[encoded data removed]",
      "text/plain": [
       "<Figure size 432x288 with 1 Axes>"
      ]
     },
     "metadata": {
      "needs_background": "light"
     },
     "output_type": "display_data"
    }
   ],
   "source": [
    "# Plot additional currents\n",
    "start = 0\n",
    "stop = 10\n",
    "V_m = np.arange(start, stop, 0.001)\n",
    "t = np.arange(start, stop, 0.001)\n",
    "    \n",
    "# Define nernst reversal potentials\n",
    "e_Na = 48 # (mV) nernst reversal potential of sodium current\n",
    "e_K = -90 # (mV) nernst reversal potential of potassium current (-80 in Gunay)\n",
    "\n",
    "# Define maximal channel conductances\n",
    "gbar_Na = 120 # (µS/cm^2) maximum sodium channel conductance \n",
    "gbar_K = 36 # (µS/cm^2) maximum potassium channel conductance \n",
    "\n",
    "# Define voltage-dependent steady state\n",
    "x_Inf_NaT_A =  1/(1 + np.exp(V_m + 29.13)/-8.92)\n",
    "x_Inf_NaT_I = 1/(1 + np.exp(V_m + 47)/5)\n",
    "x_Inf_NaP = 1/(1 + np.exp(V_m + 48.77)/-3.68)\n",
    "x_Inf_Ks = 1/(1 + np.exp(V_m + 12.85)/-19.91)\n",
    "x_Inf_Kf_A = 1/(1 + np.exp(V_m + 17.55)/-7.27)\n",
    "x_Inf_Kf_I = 1/(1 + np.exp(V_m + 45)/6)\n",
    "\n",
    "# Define time constants\n",
    "tau_NaT_A = 0.13 + (3.43/(1 + ((V_m + 45.35)/5.98)**3))\n",
    "tau_NaT_I = 0.36 + (((V_m + 20.65)/10.47)**3)\n",
    "tau_NaP = 1\n",
    "tau_Ks = 2.03 + (1.96/(1 + ((V_m - 29.83)/3.32)**4))\n",
    "tau_Kf_A = 1.94 + 2.66/(1 + ((V_m - 8.12)/7.96)**4)\n",
    "tau_Kf_I = 1.79 + 515.8/(1 + ((V_m + 174.4)/28.66)**4)\n",
    "\n",
    "# Define mechanism for m and h equations\n",
    "dxdt_NaT_A = (x_Inf_NaT_A)/tau_NaT_A\n",
    "dxdt_NaT_I = (x_Inf_NaT_I)/tau_NaT_I\n",
    "dxdt_NaP = (x_Inf_NaP)/tau_NaP\n",
    "dxdt_Ks = (x_Inf_Ks)/tau_Ks\n",
    "dxdt_Kf_A = (x_Inf_Kf_A)/tau_Kf_A\n",
    "dxdt_Kf_I = (x_Inf_Kf_I)/tau_Kf_I\n",
    "\n",
    "# Define channel currents\n",
    "I_NaT = gbar_Na * (dxdt_NaT_A**3) * dxdt_NaT_I * (V_m - e_Na)\n",
    "I_NaP = gbar_Na * (dxdt_NaP**1) * (V_m - e_Na)\n",
    "I_Ks = gbar_K * (dxdt_Ks**4) * (V_m - e_K)\n",
    "I_Kf = gbar_K * (dxdt_Kf_A**4) * dxdt_Kf_I * (V_m - e_K)\n",
    "\n",
    "plt.plot(t, I_NaT, 'b', label = 'I_NaT')\n",
    "plt.plot(t, I_NaP, 'r', label = 'I_NaP')\n",
    "plt.plot(t, I_Ks, 'g', label = 'I_Ks')\n",
    "plt.plot(t, I_Kf, 'y', label = 'I_Kf')\n",
    "\n",
    "pyplot.xlabel('Time (ms)')\n",
    "pyplot.ylabel('Current (μA)')\n",
    "\n",
    "plt.legend()\n",
    "plt.show()"
   ]
  }
 ],
 "metadata": {
  "kernelspec": {
   "display_name": "Python 3",
   "language": "python",
   "name": "python3"
  },
  "language_info": {
   "codemirror_mode": {
    "name": "ipython",
    "version": 3
   },
   "file_extension": ".py",
   "mimetype": "text/x-python",
   "name": "python",
   "nbconvert_exporter": "python",
   "pygments_lexer": "ipython3",
   "version": "3.8.5"
  }
 },
 "nbformat": 4,
 "nbformat_minor": 4
}
