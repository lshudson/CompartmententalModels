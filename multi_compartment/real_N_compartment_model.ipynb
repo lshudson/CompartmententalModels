{
 "cells": [
  {
   "cell_type": "code",
   "execution_count": 1,
   "metadata": {},
   "outputs": [],
   "source": [
    "import numpy as np\n",
    "from scipy.integrate import odeint\n",
    "import matplotlib.pyplot as plt\n",
    "from matplotlib import pyplot\n",
    "import math"
   ]
  },
  {
   "cell_type": "code",
   "execution_count": 2,
   "metadata": {},
   "outputs": [],
   "source": [
    "# Set basic electrical properties \n",
    "rho_i = 350   # (ohm-cm) specific resistance of each segment\n",
    "C_m = 0.77 # (µF/cm^2) membrane capacitance\n",
    "g_L = 0.0328 # (µS/cm^2) leakage channel conductance\n",
    "SA = 10,000 # (µm^2) total surface area (Gouwens reports 7343, 8308, and 10238 for dendrites)\n",
    "\n",
    "# Set simulation parameters\n",
    "numTimeSteps = 1000\n",
    "dt = 0.0001 # (seconds)\n",
    "timevector = np.arange(dt, 0, dt*numTimeSteps) # sequence of time steps\n",
    "\n",
    "# Set parameters for connecting cable\n",
    "r = 0.25 * (1/10000) # (cm) radius of cable\n",
    "delta_x = 1 * (1/10000) # (cm) length step of cable\n",
    "totalSegments = 1000 # each segment is isopotential; 1st seg is dendrite compartment, last seg is axon compartment\n",
    "\n",
    "# Define size of axon and dendrite compartments\n",
    "meanDendriteSurfAreaCM2 = 1.2537e-05\n",
    "meanAxonSurfAreaCM2 = 5.3566e-06\n",
    "meanPrimaryAxonLengthCM = 0.0108\n",
    "meanPrimaryAxonDiameterCM = 5.1422e-05\n",
    "\n",
    "# Set parameters\n",
    "R_a = ((rho_i * delta_x) / (math.pi/r**2)) # axial resistance\n",
    "m = 1\n",
    "def R(m) : meanAxonSurfAreaCM2 * g_L\n",
    "def C(m): meanAxonSurfAreaCM2 * C_m\n",
    "\n",
    "# Define synaptic conductance waveform\n",
    "n_syn = 100 # number of synapses for a connection\n",
    "tau1 = 0.2/1000 # (seconds)\n",
    "tau2 = 1.1/1000 # (seconds)\n",
    "weight = 55e-12 * n_syn # (picosiemens)\n",
    "factor = 1\n",
    "Gsyn_raw = [np.exp(-timevector/tau2) - np.exp(-timevector/tau1)]\n",
    "Gsyn = (Gsyn_raw/max(Gsyn_raw)) * weight\n",
    "\n",
    "# Initialize voltage vector\n",
    "V = np.zeros((totalSegments,totalSegments))"
   ]
  },
  {
   "cell_type": "code",
   "execution_count": 3,
   "metadata": {},
   "outputs": [
    {
     "data": {
      "text/plain": [
       "'\\n# A(1,arange(1, 2)) = [(1+dt/C(1)*(R(1)+(1/R_a))) -dt/C(1)/R_a]\\ndiagValue_1 = [(1+dt/C(1)*(R(1)+(1/R_a))) -dt/C(1)/R_a]\\nnp.fill_diagonal(totalSegments, diagValue_1)\\n        \\n# A(totalSegments,arange(totalSegments-1, totalSegments) = [-dt/C(totalSegments)/RA (1+dt/C(totalSegments)*(R(totalSegments)+(1/RA)))]\\ndiagValue_totalSegments = [-dt/C(totalSegments)/RA (1+dt/C(totalSegments)*(R(totalSegments)+(1/RA)))]\\nnp.fill_diagonal(totalSegments, diagValue_totalSegments)\\n\\nb = V[t-1,].conj().transpose()\\nnewValues = np.linalg.inv(A)*b #solve the system of equations for V(t+1) values\\nV[t+1,] = newValues\\n\\ndef Isyn_dend(t): Gsyn_dend(t+1) * (0.045 - V(t+1,1))\\ndef Isyn_axon(t): Gsyn_axon(t+1) * (0.045 - V(t+1,totalSegments))\\n\\n# V(arange(t+1,1)) = V(arange(t+1,1)) + Isyn_dend(t+1) * dt/C(1)\\n# V(arange(t+1,totalSegments)) = V(arange(t+1,totalSegments)) + Isyn_axon(t+1) * dt/C(totalSegments)\\n\\nplt.plot(timevector, 1000*V[:,-1].conj().transpose())\\n'"
      ]
     },
     "execution_count": 3,
     "metadata": {},
     "output_type": "execute_result"
    }
   ],
   "source": [
    "def realNcompartmentmodel(m):\n",
    "    # Run simulation\n",
    "    for t in range (1, numTimeSteps-1): # time iterator\n",
    "        # Backward Euler integration\n",
    "\n",
    "        # Define system of equations\n",
    "        A = np.zeros((totalSegments,totalSegments))\n",
    "        return A\n",
    "\n",
    "        # Build A matrix\n",
    "        A_diag = np.diag(A)\n",
    "        # print(A_diag)\n",
    "        return A_diag\n",
    "    \n",
    "        # for m in range (2, totalSegments-1):\n",
    "        # A(m,arange(m-1, m+1)) = [-dt/C(m)/R_a (1+dt/C(m)(R(m)+(2/R_a))) -dt/C(m)/R_a]\n",
    "        diagValue = [-dt/C(m)/R_a, (1+dt/C(m)(R(m)+(2/R_a))), -dt/C(m)/R_a]\n",
    "        np.fill_diagonal(A_diag, diagValue)\n",
    "        \n",
    "    # print(A_diag)\n",
    "    A_diag = \"\\n\".join([\" \".join([\"0\" for x in range(1000)]) for x in range(1000)])\n",
    "    print(A_diag)\n",
    "        \n",
    "'''\n",
    "# A(1,arange(1, 2)) = [(1+dt/C(1)*(R(1)+(1/R_a))) -dt/C(1)/R_a]\n",
    "diagValue_1 = [(1+dt/C(1)*(R(1)+(1/R_a))) -dt/C(1)/R_a]\n",
    "np.fill_diagonal(totalSegments, diagValue_1)\n",
    "        \n",
    "# A(totalSegments,arange(totalSegments-1, totalSegments) = [-dt/C(totalSegments)/RA (1+dt/C(totalSegments)*(R(totalSegments)+(1/RA)))]\n",
    "diagValue_totalSegments = [-dt/C(totalSegments)/RA (1+dt/C(totalSegments)*(R(totalSegments)+(1/RA)))]\n",
    "np.fill_diagonal(totalSegments, diagValue_totalSegments)\n",
    "\n",
    "b = V[t-1,].conj().transpose()\n",
    "newValues = np.linalg.inv(A)*b #solve the system of equations for V(t+1) values\n",
    "V[t+1,] = newValues\n",
    "\n",
    "def Isyn_dend(t): Gsyn_dend(t+1) * (0.045 - V(t+1,1))\n",
    "def Isyn_axon(t): Gsyn_axon(t+1) * (0.045 - V(t+1,totalSegments))\n",
    "\n",
    "# V(arange(t+1,1)) = V(arange(t+1,1)) + Isyn_dend(t+1) * dt/C(1)\n",
    "# V(arange(t+1,totalSegments)) = V(arange(t+1,totalSegments)) + Isyn_axon(t+1) * dt/C(totalSegments)\n",
    "\n",
    "plt.plot(timevector, 1000*V[:,-1].conj().transpose())\n",
    "'''"
   ]
  }
 ],
 "metadata": {
  "kernelspec": {
   "display_name": "Python 3",
   "language": "python",
   "name": "python3"
  },
  "language_info": {
   "codemirror_mode": {
    "name": "ipython",
    "version": 3
   },
   "file_extension": ".py",
   "mimetype": "text/x-python",
   "name": "python",
   "nbconvert_exporter": "python",
   "pygments_lexer": "ipython3",
   "version": "3.8.5"
  }
 },
 "nbformat": 4,
 "nbformat_minor": 4
}
