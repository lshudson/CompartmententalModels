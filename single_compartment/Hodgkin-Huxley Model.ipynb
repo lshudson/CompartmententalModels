{
 "cells": [
  {
   "cell_type": "code",
   "execution_count": 1,
   "metadata": {},
   "outputs": [],
   "source": [
    "from HodgkinHuxley import *"
   ]
  },
  {
   "cell_type": "code",
   "execution_count": 2,
   "metadata": {},
   "outputs": [],
   "source": [
    "import scipy as sp\n",
    "import numpy as np\n",
    "import pylab as plt\n",
    "from scipy.integrate import odeint"
   ]
  },
  {
   "cell_type": "code",
   "execution_count": 3,
   "metadata": {},
   "outputs": [
    {
     "name": "stdout",
     "output_type": "stream",
     "text": [
      "['GTK3Agg', 'GTK3Cairo', 'MacOSX', 'nbAgg', 'Qt4Agg', 'Qt4Cairo', 'Qt5Agg', 'Qt5Cairo', 'TkAgg', 'TkCairo', 'WebAgg', 'WX', 'WXAgg', 'WXCairo', 'agg', 'cairo', 'pdf', 'pgf', 'ps', 'svg', 'template']\n"
     ]
    }
   ],
   "source": [
    "import matplotlib\n",
    "%matplotlib inline\n",
    "\n",
    "matplotlib.matplotlib_fname()\n",
    "\n",
    "import matplotlib.rcsetup as rcsetup\n",
    "print(rcsetup.all_backends)"
   ]
  },
  {
   "cell_type": "code",
   "execution_count": 4,
   "metadata": {},
   "outputs": [],
   "source": [
    "\"Full Hodgkin-Huxley Model implemented in Python\"\n",
    "class HodgkinHuxley():\n",
    "\n",
    "    # define parameters\n",
    "    C_m  =   0.77 # membrane capacitance (uF/cm^2)\n",
    "    \n",
    "    g_Na = 0.4 # Sodium (Na) maximum conductances (uS/cm^2)\n",
    "    g_K  = 0.37 # Postassium (K) maximum conductances (uS/cm^2)\n",
    "    g_L  = 0.0328 # Leak maximum conductances (uS/cm^2)\n",
    "    \n",
    "    E_Na =  55 # Sodium (Na) Nernst reversal potentials (mV)\n",
    "    E_K  = -72 # Postassium (K) Nernst reversal potentials (mV)\n",
    "    E_L  = -60 # Leak Nernst reversal potentials (mV)"
   ]
  },
  {
   "cell_type": "code",
   "execution_count": 5,
   "metadata": {},
   "outputs": [],
   "source": [
    "    # time to integrate over\n",
    "    t = np.arange(0.0, 450.0, 0.01)"
   ]
  },
  {
   "cell_type": "code",
   "execution_count": 6,
   "metadata": {},
   "outputs": [],
   "source": [
    "    # Channel Gating Kinetics for Sodium (Na) Channel m\n",
    "    # m is the activation variable for the Sodium (Na) Channel\n",
    "    # Functions of membrane voltage\n",
    "    def alpha_m(self, V):\n",
    "        return 0.1*(V+40.0)/(1.0 - np.exp(-(V+40.0) / 10.0))\n",
    "\n",
    "    def beta_m(self, V):\n",
    "        return 4.0*np.exp(-(V+65.0) / 18.0)"
   ]
  },
  {
   "cell_type": "code",
   "execution_count": 7,
   "metadata": {},
   "outputs": [],
   "source": [
    "    # Channel Gating Kinetics for Sodium (Na) Channel h\n",
    "    # h is the inactivation variable for the Sodium (Na) Channel\n",
    "    # Functions of membrane voltage\n",
    "    def alpha_h(self, V):\n",
    "        return 0.07*np.exp(-(V+65.0) / 20.0)\n",
    "\n",
    "    def beta_h(self, V):\n",
    "        return 1.0/(1.0 + np.exp(-(V+35.0) / 10.0))"
   ]
  },
  {
   "cell_type": "code",
   "execution_count": 8,
   "metadata": {},
   "outputs": [],
   "source": [
    "    # Channel Gating Kinetics for Potassium (K) channel n\n",
    "    # n is the activation variable for the Potassium (K) Channel\n",
    "    # Potassium channel does not inactivate, so there is no inactivation variable\n",
    "    def alpha_n(self, V):\n",
    "        return 0.01*(V+55.0)/(1.0 - np.exp(-(V+55.0) / 10.0))\n",
    "\n",
    "    def beta_n(self, V):\n",
    "        return 0.125*np.exp(-(V+65) / 80.0)"
   ]
  },
  {
   "cell_type": "code",
   "execution_count": 9,
   "metadata": {},
   "outputs": [],
   "source": [
    "    #  Na membrane current (uA/cm^2)\n",
    "    def I_Na(self, V, m, h):\n",
    "        return self.g_Na * m**3 * h * (V - self.E_Na)"
   ]
  },
  {
   "cell_type": "code",
   "execution_count": 10,
   "metadata": {},
   "outputs": [],
   "source": [
    "    #  K membrane current (uA/cm^2)\n",
    "    def I_K(self, V, n):\n",
    "        return self.g_K  * n**4 * (V - self.E_K)"
   ]
  },
  {
   "cell_type": "code",
   "execution_count": 11,
   "metadata": {},
   "outputs": [],
   "source": [
    "    # Leak membrane current (uA/cm^2)\n",
    "    def I_L(self, V):\n",
    "        return self.g_L * (V - self.E_L)"
   ]
  },
  {
   "cell_type": "code",
   "execution_count": 12,
   "metadata": {},
   "outputs": [],
   "source": [
    "    # Injected external current (uA/cm^2)\n",
    "    def I_inj(self, t):\n",
    "        return 10*(t>100) - 10*(t>200) + 35*(t>300) - 35*(t>400)"
   ]
  },
  {
   "cell_type": "code",
   "execution_count": 13,
   "metadata": {},
   "outputs": [],
   "source": [
    "    def dALLdt(X, t, self):\n",
    "        V, m, h, n = X\n",
    "\n",
    "        dVdt = (self.I_inj(t) - self.I_Na(V, m, h) - self.I_K(V, n) - self.I_L(V)) / self.C_m\n",
    "        dmdt = self.alpha_m(V)*(1.0-m) - self.beta_m(V)*m\n",
    "        dhdt = self.alpha_h(V)*(1.0-h) - self.beta_h(V)*h\n",
    "        dndt = self.alpha_n(V)*(1.0-n) - self.beta_n(V)*n\n",
    "        return dVdt, dmdt, dhdt, dndt"
   ]
  },
  {
   "cell_type": "code",
   "execution_count": 14,
   "metadata": {},
   "outputs": [],
   "source": [
    "    def Main(self):\n",
    "        X = odeint(self.dALLdt, [-65, 0.05, 0.6, 0.32], self.t, args=(self,))\n",
    "        V = X[:,0]\n",
    "        m = X[:,1]\n",
    "        h = X[:,2]\n",
    "        n = X[:,3]\n",
    "        ina = self.I_Na(V, m, h)\n",
    "        ik = self.I_K(V, n)\n",
    "        il = self.I_L(V)\n",
    "        return X, V, m, h, n, ina, ik, il\n",
    "    \n",
    "        plt.figure()\n",
    "        actionpotential = plt.subplot(4,1,1)\n",
    "        plt.plot(self.t, V, 'k')\n",
    "        plt.xlabel('Time (s)')\n",
    "        plt.ylabel('Membrane Potential (mV)')\n",
    "        plt.show()"
   ]
  },
  {
   "cell_type": "code",
   "execution_count": 15,
   "metadata": {},
   "outputs": [
    {
     "ename": "NameError",
     "evalue": "name 'self' is not defined",
     "output_type": "error",
     "traceback": [
      "\u001b[1;31m---------------------------------------------------------------------------\u001b[0m",
      "\u001b[1;31mNameError\u001b[0m                                 Traceback (most recent call last)",
      "\u001b[1;32m<ipython-input-15-2357ff51a7fb>\u001b[0m in \u001b[0;36m<module>\u001b[1;34m\u001b[0m\n\u001b[0;32m      1\u001b[0m \u001b[0mplt\u001b[0m\u001b[1;33m.\u001b[0m\u001b[0mfigure\u001b[0m\u001b[1;33m(\u001b[0m\u001b[1;33m)\u001b[0m\u001b[1;33m\u001b[0m\u001b[1;33m\u001b[0m\u001b[0m\n\u001b[1;32m----> 2\u001b[1;33m \u001b[0mplt\u001b[0m\u001b[1;33m.\u001b[0m\u001b[0mplot\u001b[0m\u001b[1;33m(\u001b[0m\u001b[0mself\u001b[0m\u001b[1;33m.\u001b[0m\u001b[0mt\u001b[0m\u001b[1;33m,\u001b[0m \u001b[0mV\u001b[0m\u001b[1;33m,\u001b[0m \u001b[1;34m'k'\u001b[0m\u001b[1;33m)\u001b[0m\u001b[1;33m\u001b[0m\u001b[1;33m\u001b[0m\u001b[0m\n\u001b[0m\u001b[0;32m      3\u001b[0m \u001b[0mplt\u001b[0m\u001b[1;33m.\u001b[0m\u001b[0mxlabel\u001b[0m\u001b[1;33m(\u001b[0m\u001b[1;34m'Time (s)'\u001b[0m\u001b[1;33m)\u001b[0m\u001b[1;33m\u001b[0m\u001b[1;33m\u001b[0m\u001b[0m\n\u001b[0;32m      4\u001b[0m \u001b[0mplt\u001b[0m\u001b[1;33m.\u001b[0m\u001b[0mylabel\u001b[0m\u001b[1;33m(\u001b[0m\u001b[1;34m'Membrane Potential (mV)'\u001b[0m\u001b[1;33m)\u001b[0m\u001b[1;33m\u001b[0m\u001b[1;33m\u001b[0m\u001b[0m\n\u001b[0;32m      5\u001b[0m \u001b[0mplt\u001b[0m\u001b[1;33m.\u001b[0m\u001b[0mshow\u001b[0m\u001b[1;33m(\u001b[0m\u001b[1;33m)\u001b[0m\u001b[1;33m\u001b[0m\u001b[1;33m\u001b[0m\u001b[0m\n",
      "\u001b[1;31mNameError\u001b[0m: name 'self' is not defined"
     ]
    },
    {
     "data": {
      "text/plain": [
       "<Figure size 432x288 with 0 Axes>"
      ]
     },
     "metadata": {},
     "output_type": "display_data"
    }
   ],
   "source": [
    "        plt.figure()\n",
    "        plt.plot(self.t, V, 'k')\n",
    "        plt.xlabel('Time (s)')\n",
    "        plt.ylabel('Membrane Potential (mV)')\n",
    "        plt.show()"
   ]
  }
 ],
 "metadata": {
  "kernelspec": {
   "display_name": "Python 3",
   "language": "python",
   "name": "python3"
  },
  "language_info": {
   "codemirror_mode": {
    "name": "ipython",
    "version": 3
   },
   "file_extension": ".py",
   "mimetype": "text/x-python",
   "name": "python",
   "nbconvert_exporter": "python",
   "pygments_lexer": "ipython3",
   "version": "3.8.5"
  }
 },
 "nbformat": 4,
 "nbformat_minor": 4
}
