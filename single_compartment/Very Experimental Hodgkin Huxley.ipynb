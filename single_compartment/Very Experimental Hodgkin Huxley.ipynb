{
 "cells": [
  {
   "cell_type": "code",
   "execution_count": 16,
   "metadata": {},
   "outputs": [],
   "source": [
    "import numpy as np\n",
    "\n",
    "from scipy.integrate import odeint\n",
    "from scipy import stats\n",
    "import scipy.linalg as lin\n",
    "\n",
    "import matplotlib.pyplot as plt\n",
    "from matplotlib import pyplot\n",
    "import pylab as plt"
   ]
  },
  {
   "cell_type": "code",
   "execution_count": 17,
   "metadata": {},
   "outputs": [],
   "source": [
    "# Constant parameters\n",
    "\n",
    "# Nersnt reversal potentials (mV)\n",
    "E_Na = 72\n",
    "E_K = -12\n",
    "E_L = -60\n",
    "\n",
    "# Leakage channel conductance (mS/cm^2)\n",
    "gbar_L = 0.0328\n",
    "    \n",
    "# Membrane capacitance (uF/cm^2)\n",
    "C_m = 0.77\n",
    "    \n",
    "# Sodium maximum channel conductance (mS/cm^2)\n",
    "gbar_Na = 120\n",
    "\n",
    "# Potassium maximum channel conductance (mS/cm^2)\n",
    "gbar_K = 36"
   ]
  },
  {
   "cell_type": "code",
   "execution_count": 18,
   "metadata": {},
   "outputs": [],
   "source": [
    "def hodgkinhuxley(state,t):\n",
    "    v = state[0]\n",
    "    y = state[1]\n",
    "    m = state[2]\n",
    "    h = state[3]\n",
    "\n",
    "    # Dependent parameters\n",
    "    # Sodium channel conductance\n",
    "    gbar_Na * h * m**3\n",
    "\n",
    "    # Potassium channel conductance\n",
    "    g_K = gbar_K * (n**4)"
   ]
  },
  {
   "cell_type": "code",
   "execution_count": 20,
   "metadata": {},
   "outputs": [
    {
     "data": {
      "text/plain": [
       "'\\n# Channel Gating Kinetics for Sodium (Na) Channel m\\n# m is the activation variable for the Sodium (Na) Channel\\n\\ndef a_m(v): return 0.1*(25-v)/(np.exp((25-v)/10)-1)\\ndef b_m(v): return 4.0*np.exp(-v/18)\\n    \\n# Channel Gating Kinetics for Sodium (Na) Channel h\\n# h is the inactivation variable for the Sodium (Na) Channel\\ndef a_h(v): return 0.07*np.exp(-v/20)\\ndef b_h(v): return 1.0/(np.exp((30-v)/10)+1)    \\n\\n# Channel Gating Kinetics for Potassium (K) channel n\\n# n is the activation variable for the Potassium (K) Channel\\n# Potassium channel does not inactivate, so there is no inactivation variable\\ndef a_n(v): return 0.01*(10-v)/(np.exp((10-v)/10)-1)\\ndef b_n(v): return 0.125*np.exp(-v/80)\\n'"
      ]
     },
     "execution_count": 20,
     "metadata": {},
     "output_type": "execute_result"
    }
   ],
   "source": [
    "def a_m(V): return 0.1*(V+40.0)/(1.0 - np.exp(-(V+40.0) / 10.0))\n",
    "def b_m(V):  return 4.0*np.exp(-(V+65.0) / 18.0)\n",
    "def a_h(V): return 0.07*np.exp(-(V+65.0) / 20.0)\n",
    "def b_h(V):  return 1.0/(1.0 + np.exp(-(V+35.0) / 10.0))\n",
    "def a_n(V): return 0.01*(V+55.0)/(1.0 - np.exp(-(V+55.0) / 10.0))\n",
    "def b_n(V):  return 0.125*np.exp(-(V+65) / 80.0)\n",
    "\n",
    "'''\n",
    "# Channel Gating Kinetics for Sodium (Na) Channel m\n",
    "# m is the activation variable for the Sodium (Na) Channel\n",
    "\n",
    "def a_m(v): return 0.1*(25-v)/(np.exp((25-v)/10)-1)\n",
    "def b_m(v): return 4.0*np.exp(-v/18)\n",
    "    \n",
    "# Channel Gating Kinetics for Sodium (Na) Channel h\n",
    "# h is the inactivation variable for the Sodium (Na) Channel\n",
    "def a_h(v): return 0.07*np.exp(-v/20)\n",
    "def b_h(v): return 1.0/(np.exp((30-v)/10)+1)    \n",
    "\n",
    "# Channel Gating Kinetics for Potassium (K) channel n\n",
    "# n is the activation variable for the Potassium (K) Channel\n",
    "# Potassium channel does not inactivate, so there is no inactivation variable\n",
    "def a_n(v): return 0.01*(10-v)/(np.exp((10-v)/10)-1)\n",
    "def b_n(v): return 0.125*np.exp(-v/80)\n",
    "'''"
   ]
  },
  {
   "cell_type": "code",
   "execution_count": 21,
   "metadata": {},
   "outputs": [
    {
     "data": {
      "text/plain": [
       "'\\nI_Na = g_Na * (v-E_Na)\\nI_K = g_K * (v-E_K)\\nI_L = gbar_L \\nI_inj = 10\\n'"
      ]
     },
     "execution_count": 21,
     "metadata": {},
     "output_type": "execute_result"
    }
   ],
   "source": [
    "# Membrane currents (in uA/cm^2)\n",
    "# Sodium \n",
    "def I_Na(v,m,h):return g_Na * (v - E_Na)\n",
    "# Potassium \n",
    "def I_K(v, n):  return g_K * (v - E_K)\n",
    "# Leak\n",
    "I_L = gbar_L\n",
    "\n",
    "'''\n",
    "I_Na = g_Na * (v-E_Na)\n",
    "I_K = g_K * (v-E_K)\n",
    "I_L = gbar_L \n",
    "I_inj = 10\n",
    "'''"
   ]
  },
  {
   "cell_type": "code",
   "execution_count": 22,
   "metadata": {},
   "outputs": [],
   "source": [
    "# Time to integrate over\n",
    "t = np.arange(0,30,.00001)"
   ]
  },
  {
   "cell_type": "code",
   "execution_count": 23,
   "metadata": {},
   "outputs": [],
   "source": [
    "# Integrate\n",
    "def dALLdt(X, t):\n",
    "    v, m, h, n = X\n",
    "    \n",
    "    # Calculate membrane potential & activation variables\n",
    "    # Differential equations\n",
    "    dvdt = (-I_Na(v,m,h) - I_K(v,n) - I_L + I_inj)/C_m\n",
    "    dmdt = a_m(v)*(1.0-m) - b_m(v)*m\n",
    "    dhdt = a_h(v)*(1.0-h) - b_h(v)*h\n",
    "    dndt = a_n(v)*(1.0-n) - b_n(v)*n\n",
    "    return dvdt, dndt, dmdt, dhdt"
   ]
  },
  {
   "cell_type": "code",
   "execution_count": 24,
   "metadata": {},
   "outputs": [
    {
     "ename": "NameError",
     "evalue": "name 'g_Na' is not defined",
     "output_type": "error",
     "traceback": [
      "\u001b[1;31m---------------------------------------------------------------------------\u001b[0m",
      "\u001b[1;31mNameError\u001b[0m                                 Traceback (most recent call last)",
      "\u001b[1;32m<ipython-input-24-8d9eb79ba8db>\u001b[0m in \u001b[0;36m<module>\u001b[1;34m\u001b[0m\n\u001b[0;32m      1\u001b[0m \u001b[0mstate0\u001b[0m \u001b[1;33m=\u001b[0m \u001b[1;33m[\u001b[0m\u001b[1;36m7\u001b[0m\u001b[1;33m,\u001b[0m \u001b[1;36m0.19\u001b[0m\u001b[1;33m,\u001b[0m \u001b[1;36m0.18\u001b[0m\u001b[1;33m,\u001b[0m \u001b[1;36m0.6\u001b[0m\u001b[1;33m]\u001b[0m\u001b[1;33m\u001b[0m\u001b[1;33m\u001b[0m\u001b[0m\n\u001b[1;32m----> 2\u001b[1;33m \u001b[0mX\u001b[0m \u001b[1;33m=\u001b[0m \u001b[0modeint\u001b[0m\u001b[1;33m(\u001b[0m\u001b[0mdALLdt\u001b[0m\u001b[1;33m,\u001b[0m \u001b[0mstate0\u001b[0m\u001b[1;33m,\u001b[0m \u001b[0mt\u001b[0m\u001b[1;33m)\u001b[0m\u001b[1;33m\u001b[0m\u001b[1;33m\u001b[0m\u001b[0m\n\u001b[0m\u001b[0;32m      3\u001b[0m \u001b[0mv\u001b[0m \u001b[1;33m=\u001b[0m \u001b[0mX\u001b[0m\u001b[1;33m[\u001b[0m\u001b[1;33m:\u001b[0m\u001b[1;33m,\u001b[0m\u001b[1;36m0\u001b[0m\u001b[1;33m]\u001b[0m\u001b[1;33m\u001b[0m\u001b[1;33m\u001b[0m\u001b[0m\n\u001b[0;32m      4\u001b[0m \u001b[0mm\u001b[0m \u001b[1;33m=\u001b[0m \u001b[0mX\u001b[0m\u001b[1;33m[\u001b[0m\u001b[1;33m:\u001b[0m\u001b[1;33m,\u001b[0m\u001b[1;36m1\u001b[0m\u001b[1;33m]\u001b[0m\u001b[1;33m\u001b[0m\u001b[1;33m\u001b[0m\u001b[0m\n\u001b[0;32m      5\u001b[0m \u001b[0mh\u001b[0m \u001b[1;33m=\u001b[0m \u001b[0mX\u001b[0m\u001b[1;33m[\u001b[0m\u001b[1;33m:\u001b[0m\u001b[1;33m,\u001b[0m\u001b[1;36m2\u001b[0m\u001b[1;33m]\u001b[0m\u001b[1;33m\u001b[0m\u001b[1;33m\u001b[0m\u001b[0m\n",
      "\u001b[1;32m~\\anaconda3\\lib\\site-packages\\scipy\\integrate\\odepack.py\u001b[0m in \u001b[0;36modeint\u001b[1;34m(func, y0, t, args, Dfun, col_deriv, full_output, ml, mu, rtol, atol, tcrit, h0, hmax, hmin, ixpr, mxstep, mxhnil, mxordn, mxords, printmessg, tfirst)\u001b[0m\n\u001b[0;32m    239\u001b[0m     \u001b[0mt\u001b[0m \u001b[1;33m=\u001b[0m \u001b[0mcopy\u001b[0m\u001b[1;33m(\u001b[0m\u001b[0mt\u001b[0m\u001b[1;33m)\u001b[0m\u001b[1;33m\u001b[0m\u001b[1;33m\u001b[0m\u001b[0m\n\u001b[0;32m    240\u001b[0m     \u001b[0my0\u001b[0m \u001b[1;33m=\u001b[0m \u001b[0mcopy\u001b[0m\u001b[1;33m(\u001b[0m\u001b[0my0\u001b[0m\u001b[1;33m)\u001b[0m\u001b[1;33m\u001b[0m\u001b[1;33m\u001b[0m\u001b[0m\n\u001b[1;32m--> 241\u001b[1;33m     output = _odepack.odeint(func, y0, t, args, Dfun, col_deriv, ml, mu,\n\u001b[0m\u001b[0;32m    242\u001b[0m                              \u001b[0mfull_output\u001b[0m\u001b[1;33m,\u001b[0m \u001b[0mrtol\u001b[0m\u001b[1;33m,\u001b[0m \u001b[0matol\u001b[0m\u001b[1;33m,\u001b[0m \u001b[0mtcrit\u001b[0m\u001b[1;33m,\u001b[0m \u001b[0mh0\u001b[0m\u001b[1;33m,\u001b[0m \u001b[0mhmax\u001b[0m\u001b[1;33m,\u001b[0m \u001b[0mhmin\u001b[0m\u001b[1;33m,\u001b[0m\u001b[1;33m\u001b[0m\u001b[1;33m\u001b[0m\u001b[0m\n\u001b[0;32m    243\u001b[0m                              \u001b[0mixpr\u001b[0m\u001b[1;33m,\u001b[0m \u001b[0mmxstep\u001b[0m\u001b[1;33m,\u001b[0m \u001b[0mmxhnil\u001b[0m\u001b[1;33m,\u001b[0m \u001b[0mmxordn\u001b[0m\u001b[1;33m,\u001b[0m \u001b[0mmxords\u001b[0m\u001b[1;33m,\u001b[0m\u001b[1;33m\u001b[0m\u001b[1;33m\u001b[0m\u001b[0m\n",
      "\u001b[1;32m<ipython-input-23-fbf69962543c>\u001b[0m in \u001b[0;36mdALLdt\u001b[1;34m(X, t)\u001b[0m\n\u001b[0;32m      5\u001b[0m     \u001b[1;31m# Calculate membrane potential & activation variables\u001b[0m\u001b[1;33m\u001b[0m\u001b[1;33m\u001b[0m\u001b[1;33m\u001b[0m\u001b[0m\n\u001b[0;32m      6\u001b[0m     \u001b[1;31m# Differential equations\u001b[0m\u001b[1;33m\u001b[0m\u001b[1;33m\u001b[0m\u001b[1;33m\u001b[0m\u001b[0m\n\u001b[1;32m----> 7\u001b[1;33m     \u001b[0mdvdt\u001b[0m \u001b[1;33m=\u001b[0m \u001b[1;33m(\u001b[0m\u001b[1;33m-\u001b[0m\u001b[0mI_Na\u001b[0m\u001b[1;33m(\u001b[0m\u001b[0mv\u001b[0m\u001b[1;33m,\u001b[0m\u001b[0mm\u001b[0m\u001b[1;33m,\u001b[0m\u001b[0mh\u001b[0m\u001b[1;33m)\u001b[0m \u001b[1;33m-\u001b[0m \u001b[0mI_K\u001b[0m\u001b[1;33m(\u001b[0m\u001b[0mv\u001b[0m\u001b[1;33m,\u001b[0m\u001b[0mn\u001b[0m\u001b[1;33m)\u001b[0m \u001b[1;33m-\u001b[0m \u001b[0mI_L\u001b[0m \u001b[1;33m+\u001b[0m \u001b[0mI_inj\u001b[0m\u001b[1;33m)\u001b[0m\u001b[1;33m/\u001b[0m\u001b[0mC_m\u001b[0m\u001b[1;33m\u001b[0m\u001b[1;33m\u001b[0m\u001b[0m\n\u001b[0m\u001b[0;32m      8\u001b[0m     \u001b[0mdmdt\u001b[0m \u001b[1;33m=\u001b[0m \u001b[0ma_m\u001b[0m\u001b[1;33m(\u001b[0m\u001b[0mv\u001b[0m\u001b[1;33m)\u001b[0m\u001b[1;33m*\u001b[0m\u001b[1;33m(\u001b[0m\u001b[1;36m1.0\u001b[0m\u001b[1;33m-\u001b[0m\u001b[0mm\u001b[0m\u001b[1;33m)\u001b[0m \u001b[1;33m-\u001b[0m \u001b[0mb_m\u001b[0m\u001b[1;33m(\u001b[0m\u001b[0mv\u001b[0m\u001b[1;33m)\u001b[0m\u001b[1;33m*\u001b[0m\u001b[0mm\u001b[0m\u001b[1;33m\u001b[0m\u001b[1;33m\u001b[0m\u001b[0m\n\u001b[0;32m      9\u001b[0m     \u001b[0mdhdt\u001b[0m \u001b[1;33m=\u001b[0m \u001b[0ma_h\u001b[0m\u001b[1;33m(\u001b[0m\u001b[0mv\u001b[0m\u001b[1;33m)\u001b[0m\u001b[1;33m*\u001b[0m\u001b[1;33m(\u001b[0m\u001b[1;36m1.0\u001b[0m\u001b[1;33m-\u001b[0m\u001b[0mh\u001b[0m\u001b[1;33m)\u001b[0m \u001b[1;33m-\u001b[0m \u001b[0mb_h\u001b[0m\u001b[1;33m(\u001b[0m\u001b[0mv\u001b[0m\u001b[1;33m)\u001b[0m\u001b[1;33m*\u001b[0m\u001b[0mh\u001b[0m\u001b[1;33m\u001b[0m\u001b[1;33m\u001b[0m\u001b[0m\n",
      "\u001b[1;32m<ipython-input-21-c4d923e1968f>\u001b[0m in \u001b[0;36mI_Na\u001b[1;34m(v, m, h)\u001b[0m\n\u001b[0;32m      1\u001b[0m \u001b[1;31m# Membrane currents (in uA/cm^2)\u001b[0m\u001b[1;33m\u001b[0m\u001b[1;33m\u001b[0m\u001b[1;33m\u001b[0m\u001b[0m\n\u001b[0;32m      2\u001b[0m \u001b[1;31m# Sodium\u001b[0m\u001b[1;33m\u001b[0m\u001b[1;33m\u001b[0m\u001b[1;33m\u001b[0m\u001b[0m\n\u001b[1;32m----> 3\u001b[1;33m \u001b[1;32mdef\u001b[0m \u001b[0mI_Na\u001b[0m\u001b[1;33m(\u001b[0m\u001b[0mv\u001b[0m\u001b[1;33m,\u001b[0m\u001b[0mm\u001b[0m\u001b[1;33m,\u001b[0m\u001b[0mh\u001b[0m\u001b[1;33m)\u001b[0m\u001b[1;33m:\u001b[0m\u001b[1;32mreturn\u001b[0m \u001b[0mg_Na\u001b[0m \u001b[1;33m*\u001b[0m \u001b[1;33m(\u001b[0m\u001b[0mv\u001b[0m \u001b[1;33m-\u001b[0m \u001b[0mE_Na\u001b[0m\u001b[1;33m)\u001b[0m\u001b[1;33m\u001b[0m\u001b[1;33m\u001b[0m\u001b[0m\n\u001b[0m\u001b[0;32m      4\u001b[0m \u001b[1;31m# Potassium\u001b[0m\u001b[1;33m\u001b[0m\u001b[1;33m\u001b[0m\u001b[1;33m\u001b[0m\u001b[0m\n\u001b[0;32m      5\u001b[0m \u001b[1;32mdef\u001b[0m \u001b[0mI_K\u001b[0m\u001b[1;33m(\u001b[0m\u001b[0mv\u001b[0m\u001b[1;33m,\u001b[0m \u001b[0mn\u001b[0m\u001b[1;33m)\u001b[0m\u001b[1;33m:\u001b[0m  \u001b[1;32mreturn\u001b[0m \u001b[0mg_K\u001b[0m \u001b[1;33m*\u001b[0m \u001b[1;33m(\u001b[0m\u001b[0mv\u001b[0m \u001b[1;33m-\u001b[0m \u001b[0mE_K\u001b[0m\u001b[1;33m)\u001b[0m\u001b[1;33m\u001b[0m\u001b[1;33m\u001b[0m\u001b[0m\n",
      "\u001b[1;31mNameError\u001b[0m: name 'g_Na' is not defined"
     ]
    }
   ],
   "source": [
    "state0 = [7, 0.19, 0.18, 0.6]\n",
    "X = odeint(dALLdt, state0, t)\n",
    "v = X[:,0]\n",
    "m = X[:,1]\n",
    "h = X[:,2]\n",
    "n = X[:,3]\n",
    "ina = I_Na(v,m,h)\n",
    "ik = I_K(v,n)\n",
    "il = I_L(v)"
   ]
  },
  {
   "cell_type": "code",
   "execution_count": 25,
   "metadata": {},
   "outputs": [
    {
     "ename": "NameError",
     "evalue": "name 'n' is not defined",
     "output_type": "error",
     "traceback": [
      "\u001b[1;31m---------------------------------------------------------------------------\u001b[0m",
      "\u001b[1;31mNameError\u001b[0m                                 Traceback (most recent call last)",
      "\u001b[1;32m<ipython-input-25-8b1cb66f40aa>\u001b[0m in \u001b[0;36m<module>\u001b[1;34m\u001b[0m\n\u001b[0;32m      1\u001b[0m \u001b[0mstate0\u001b[0m \u001b[1;33m=\u001b[0m \u001b[1;33m[\u001b[0m\u001b[1;36m7\u001b[0m\u001b[1;33m,\u001b[0m \u001b[1;36m0.19\u001b[0m\u001b[1;33m,\u001b[0m \u001b[1;36m0.18\u001b[0m\u001b[1;33m,\u001b[0m \u001b[1;36m0.6\u001b[0m\u001b[1;33m]\u001b[0m\u001b[1;33m\u001b[0m\u001b[1;33m\u001b[0m\u001b[0m\n\u001b[1;32m----> 2\u001b[1;33m \u001b[0mstate\u001b[0m \u001b[1;33m=\u001b[0m \u001b[0modeint\u001b[0m\u001b[1;33m(\u001b[0m\u001b[0mhodgkinhuxley\u001b[0m\u001b[1;33m,\u001b[0m \u001b[0mstate0\u001b[0m\u001b[1;33m,\u001b[0m \u001b[0mt\u001b[0m\u001b[1;33m)\u001b[0m\u001b[1;33m\u001b[0m\u001b[1;33m\u001b[0m\u001b[0m\n\u001b[0m\u001b[0;32m      3\u001b[0m \u001b[0mplt\u001b[0m\u001b[1;33m.\u001b[0m\u001b[0mplot\u001b[0m\u001b[1;33m(\u001b[0m\u001b[0mt\u001b[0m\u001b[1;33m,\u001b[0m\u001b[0mstate\u001b[0m\u001b[1;33m[\u001b[0m\u001b[1;33m:\u001b[0m\u001b[1;33m,\u001b[0m\u001b[1;36m0\u001b[0m\u001b[1;33m]\u001b[0m\u001b[1;33m-\u001b[0m\u001b[1;36m65\u001b[0m\u001b[1;33m)\u001b[0m\u001b[1;33m\u001b[0m\u001b[1;33m\u001b[0m\u001b[0m\n\u001b[0;32m      4\u001b[0m \u001b[0mpyplot\u001b[0m\u001b[1;33m.\u001b[0m\u001b[0mxlabel\u001b[0m\u001b[1;33m(\u001b[0m\u001b[1;34m'Time (ms)'\u001b[0m\u001b[1;33m)\u001b[0m\u001b[1;33m\u001b[0m\u001b[1;33m\u001b[0m\u001b[0m\n\u001b[0;32m      5\u001b[0m \u001b[0mpyplot\u001b[0m\u001b[1;33m.\u001b[0m\u001b[0mylabel\u001b[0m\u001b[1;33m(\u001b[0m\u001b[1;34m'Membrane Potential (mV)'\u001b[0m\u001b[1;33m)\u001b[0m\u001b[1;33m\u001b[0m\u001b[1;33m\u001b[0m\u001b[0m\n",
      "\u001b[1;32m~\\anaconda3\\lib\\site-packages\\scipy\\integrate\\odepack.py\u001b[0m in \u001b[0;36modeint\u001b[1;34m(func, y0, t, args, Dfun, col_deriv, full_output, ml, mu, rtol, atol, tcrit, h0, hmax, hmin, ixpr, mxstep, mxhnil, mxordn, mxords, printmessg, tfirst)\u001b[0m\n\u001b[0;32m    239\u001b[0m     \u001b[0mt\u001b[0m \u001b[1;33m=\u001b[0m \u001b[0mcopy\u001b[0m\u001b[1;33m(\u001b[0m\u001b[0mt\u001b[0m\u001b[1;33m)\u001b[0m\u001b[1;33m\u001b[0m\u001b[1;33m\u001b[0m\u001b[0m\n\u001b[0;32m    240\u001b[0m     \u001b[0my0\u001b[0m \u001b[1;33m=\u001b[0m \u001b[0mcopy\u001b[0m\u001b[1;33m(\u001b[0m\u001b[0my0\u001b[0m\u001b[1;33m)\u001b[0m\u001b[1;33m\u001b[0m\u001b[1;33m\u001b[0m\u001b[0m\n\u001b[1;32m--> 241\u001b[1;33m     output = _odepack.odeint(func, y0, t, args, Dfun, col_deriv, ml, mu,\n\u001b[0m\u001b[0;32m    242\u001b[0m                              \u001b[0mfull_output\u001b[0m\u001b[1;33m,\u001b[0m \u001b[0mrtol\u001b[0m\u001b[1;33m,\u001b[0m \u001b[0matol\u001b[0m\u001b[1;33m,\u001b[0m \u001b[0mtcrit\u001b[0m\u001b[1;33m,\u001b[0m \u001b[0mh0\u001b[0m\u001b[1;33m,\u001b[0m \u001b[0mhmax\u001b[0m\u001b[1;33m,\u001b[0m \u001b[0mhmin\u001b[0m\u001b[1;33m,\u001b[0m\u001b[1;33m\u001b[0m\u001b[1;33m\u001b[0m\u001b[0m\n\u001b[0;32m    243\u001b[0m                              \u001b[0mixpr\u001b[0m\u001b[1;33m,\u001b[0m \u001b[0mmxstep\u001b[0m\u001b[1;33m,\u001b[0m \u001b[0mmxhnil\u001b[0m\u001b[1;33m,\u001b[0m \u001b[0mmxordn\u001b[0m\u001b[1;33m,\u001b[0m \u001b[0mmxords\u001b[0m\u001b[1;33m,\u001b[0m\u001b[1;33m\u001b[0m\u001b[1;33m\u001b[0m\u001b[0m\n",
      "\u001b[1;32m<ipython-input-18-8c4a2048a9ca>\u001b[0m in \u001b[0;36mhodgkinhuxley\u001b[1;34m(state, t)\u001b[0m\n\u001b[0;32m     27\u001b[0m \u001b[1;33m\u001b[0m\u001b[0m\n\u001b[0;32m     28\u001b[0m     \u001b[1;31m# Potassium channel conductance\u001b[0m\u001b[1;33m\u001b[0m\u001b[1;33m\u001b[0m\u001b[1;33m\u001b[0m\u001b[0m\n\u001b[1;32m---> 29\u001b[1;33m     \u001b[0mg_K\u001b[0m \u001b[1;33m=\u001b[0m \u001b[0mgbar_K\u001b[0m \u001b[1;33m*\u001b[0m \u001b[1;33m(\u001b[0m\u001b[0mn\u001b[0m\u001b[1;33m**\u001b[0m\u001b[1;36m4\u001b[0m\u001b[1;33m)\u001b[0m\u001b[1;33m\u001b[0m\u001b[1;33m\u001b[0m\u001b[0m\n\u001b[0m",
      "\u001b[1;31mNameError\u001b[0m: name 'n' is not defined"
     ]
    }
   ],
   "source": [
    "state0 = [7, 0.19, 0.18, 0.6]\n",
    "state = odeint(hodgkinhuxley, state0, t)\n",
    "plt.plot(t,state[:,0]-65)\n",
    "pyplot.xlabel('Time (ms)')\n",
    "pyplot.ylabel('Membrane Potential (mV)')\n",
    "plt.show()"
   ]
  },
  {
   "cell_type": "code",
   "execution_count": null,
   "metadata": {},
   "outputs": [],
   "source": [
    "t = np.arange (0,30,.00001)\n",
    "state0 = [7, 0.19, 0.18, 0.6]\n",
    "state = odeint(hodgkinhuxley, state0, t)\n",
    "plt.plot(t,state[:,0]-65)\n",
    "plt.plot(t, I_Na, 'c', label='$I_{Na}$')\n",
    "plt.plot(t, I_K, 'y', label='$I_{K}$')\n",
    "plt.plot(t, I_L, 'm', label='$I_{L}$')\n",
    "plt.legend()\n",
    "pyplot.xlabel('Time (ms)')\n",
    "pyplot.ylabel('Current (uA)')\n",
    "plt.show()"
   ]
  },
  {
   "cell_type": "code",
   "execution_count": 9,
   "metadata": {},
   "outputs": [
    {
     "data": {
      "text/plain": [
       "\"\\nChannel nernst reversal potentials\\nE_Na from 115 to 72: two spikes in 30 ms time span to 1; enough repolarization and ending potential at ~-65mV; peak at \\n~10mV instead of 40mV\\nE_K from -12 to -72: almost like a damped sine waveform; first repolarizes then follows in pattern and amplitude decreases\\nE_L from 10.6 to -60: no change\\n\\nSodium maximum channel conductance\\ngbar_Na from 120 to 0.4: severe decrease in change in membrane potential (~4mV); still looks like an action potential with \\nsufficient depolarization and repolarization\\ng_Na is function of gbar_Na, h, and m\\n\\nPotassium maximum channel conductance\\ngbar_K from 36 to 0.37: regular change in membrane potential; sudden change at peak; doesn't repolarize enough - ends at 0mV\\ng_K is function of gbar_K and y\\n\\nLeakage channel conductance\\ngbar_L from 0.3 to 0.0328: no change\\n\\nMembrane capacitance\\nC_m from 1 to 0.77: no change\\n\\nChannel currents\\nI_Na is function of g_Na, v, V_Na\\nI_K is function of g_K, v, V_K\\nI_L is function of g_L\\nI_app from 6.2 to 10: no change\\n\\nstate0 first term from 0 to 7: decrease in time span, slight increase in resting potential; as values increase more abnormal \\nbehavior\\nstate0 second term: any small change results in different curves at peak any sizeable change results in abnormal damped \\nbehavior; slighly increased membrane potential at peak\\nstate0 third term: decreases time span but makes peak slighly more of a sudden change\\nstate0 fourth term: slight changes in peak shape; larger changes in membrane potential\\n\\nChanged parameters:\\nE_Na from 115 to 72\\nE_L from 10.6 to -60\\ngbar_L from 0.3 to 0.0328\\nC_m from 1 to 0.77\\nI_app from 6.2 to 10\\nn from 0.28 to 0.19\\nm from 0.05 to 0.18\\nh from 0.6 to 0.28\\n\""
      ]
     },
     "execution_count": 9,
     "metadata": {},
     "output_type": "execute_result"
    }
   ],
   "source": [
    "'''\n",
    "Channel nernst reversal potentials\n",
    "e_Na from 115 to 72: two spikes in 30 ms time span to 1; enough repolarization and ending potential at ~-65mV; peak at \n",
    "~10mV instead of 40mV\n",
    "e_K from -12 to -72: almost like a damped sine waveform; first repolarizes then follows in pattern and amplitude decreases\n",
    "e_L from 10.6 to -60: no change\n",
    "\n",
    "Sodium maximum channel conductance\n",
    "gbar_Na from 120 to 0.4: severe decrease in change in membrane potential (~4mV); still looks like an action potential with \n",
    "sufficient depolarization and repolarization\n",
    "g_Na is function of gbar_Na, h, and m\n",
    "\n",
    "Potassium maximum channel conductance\n",
    "gbar_K from 36 to 0.37: regular change in membrane potential; sudden change at peak; doesn't repolarize enough - ends at 0mV\n",
    "g_K is function of gbar_K and y\n",
    "\n",
    "Leakage channel conductance\n",
    "gbar_L from 0.3 to 0.0328: no change\n",
    "\n",
    "Membrane capacitance\n",
    "C_m from 1 to 0.77: no change\n",
    "\n",
    "Channel currents\n",
    "I_Na is function of g_Na, v, V_Na\n",
    "I_K is function of g_K, v, V_K\n",
    "I_L is function of g_L\n",
    "I_app from 6.2 to 10: no change\n",
    "\n",
    "state0 first term from 0 to 7: decrease in time span, slight increase in resting potential; as values increase more abnormal \n",
    "behavior\n",
    "state0 second term: any small change results in different curves at peak any sizeable change results in abnormal damped \n",
    "behavior; slighly increased membrane potential at peak\n",
    "state0 third term: decreases time span but makes peak slighly more of a sudden change\n",
    "state0 fourth term: slight changes in peak shape; larger changes in membrane potential\n",
    "\n",
    "Changed parameters:\n",
    "E_Na from 115 to 72\n",
    "E_L from 10.6 to -60\n",
    "gbar_L from 0.3 to 0.0328\n",
    "C_m from 1 to 0.77\n",
    "I_app from 6.2 to 10\n",
    "n from 0.28 to 0.19\n",
    "m from 0.05 to 0.18\n",
    "h from 0.6 to 0.28\n",
    "'''"
   ]
  }
 ],
 "metadata": {
  "kernelspec": {
   "display_name": "Python 3",
   "language": "python",
   "name": "python3"
  },
  "language_info": {
   "codemirror_mode": {
    "name": "ipython",
    "version": 3
   },
   "file_extension": ".py",
   "mimetype": "text/x-python",
   "name": "python",
   "nbconvert_exporter": "python",
   "pygments_lexer": "ipython3",
   "version": "3.8.5"
  }
 },
 "nbformat": 4,
 "nbformat_minor": 4
}
