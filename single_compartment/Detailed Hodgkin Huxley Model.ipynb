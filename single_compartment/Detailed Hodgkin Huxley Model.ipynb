{
 "cells": [
  {
   "cell_type": "code",
   "execution_count": 8,
   "metadata": {},
   "outputs": [],
   "source": [
    "import numpy as np\n",
    "import pylab as plt\n",
    "from scipy.integrate import odeint\n",
    "from scipy import stats\n",
    "import scipy.linalg as lin"
   ]
  },
  {
   "cell_type": "code",
   "execution_count": 61,
   "metadata": {},
   "outputs": [],
   "source": [
    "## Full Hodgkin-Huxley Model\n",
    "\n",
    "# Constants\n",
    "C_m  = 0.77 # membrane capacitance, in uF/cm^2\n",
    "g_Na = 120.0 # maximum sodium channel conducance (mS/cm^2)\n",
    "g_K  = 36.0 # maximum potassium channel conductance (mS/cm^2)\n",
    "g_L  = 0.0328 # maximum leakage channel conductance (mS/cm^2)\n",
    "E_Na = 72 # Nernst sodium reversal potential (mV)\n",
    "E_K  = -12 # Nernst potassium reversal potential (mV)\n",
    "E_L  = -60 # Nernst leakage reversal potential (mV)"
   ]
  },
  {
   "cell_type": "code",
   "execution_count": 49,
   "metadata": {},
   "outputs": [],
   "source": [
    "# Channel gating kinetics\n",
    "# Functions of membrane voltage\n",
    "def alpha_m(V): return 0.1*(V+40.0)/(1.0 - np.exp(-(V+40.0) / 10.0))\n",
    "def beta_m(V):  return 4.0*np.exp(-(V+65.0) / 18.0)\n",
    "def alpha_h(V): return 0.07*np.exp(-(V+65.0) / 20.0)\n",
    "def beta_h(V):  return 1.0/(1.0 + np.exp(-(V+35.0) / 10.0))\n",
    "def alpha_n(V): return 0.01*(V+55.0)/(1.0 - np.exp(-(V+55.0) / 10.0))\n",
    "def beta_n(V):  return 0.125*np.exp(-(V+65) / 80.0)"
   ]
  },
  {
   "cell_type": "code",
   "execution_count": 50,
   "metadata": {},
   "outputs": [],
   "source": [
    "# Membrane currents (in uA/cm^2)\n",
    "#  Sodium (Na = element name)\n",
    "def I_Na(V,m,h):return g_Na * m**3 * h * (V - E_Na)\n",
    "#  Potassium (K = element name)\n",
    "def I_K(V, n):  return g_K  * n**4     * (V - E_K)\n",
    "#  Leak\n",
    "def I_L(V):     return g_L             * (V - E_L)"
   ]
  },
  {
   "cell_type": "code",
   "execution_count": 51,
   "metadata": {},
   "outputs": [],
   "source": [
    "# External current\n",
    "def I_inj(t): # step up 10 uA/cm^2 every 100ms for 400ms\n",
    "    return 10*(t>100) - 10*(t>200) + 35*(t>300)\n",
    "    #return 10*t"
   ]
  },
  {
   "cell_type": "code",
   "execution_count": 52,
   "metadata": {},
   "outputs": [],
   "source": [
    "# The time to integrate over\n",
    "t = np.arange(0.0, 400.0, 0.1)"
   ]
  },
  {
   "cell_type": "code",
   "execution_count": 62,
   "metadata": {},
   "outputs": [],
   "source": [
    "# Integrate!\n",
    "def dALLdt(X, t):\n",
    "    V, m, h, n = X\n",
    "    \n",
    "    #calculate membrane potential & activation variables\n",
    "    dVdt = (I_inj(t) - I_Na(V, m, h) - I_K(V, n) - I_L(V)) / C_m\n",
    "    dmdt = alpha_m(V)*(1.0-m) - beta_m(V)*m\n",
    "    dhdt = alpha_h(V)*(1.0-h) - beta_h(V)*h\n",
    "    dndt = alpha_n(V)*(1.0-n) - beta_n(V)*n\n",
    "    return dVdt, dmdt, dhdt, dndt"
   ]
  },
  {
   "cell_type": "code",
   "execution_count": 54,
   "metadata": {},
   "outputs": [],
   "source": [
    "X = odeint(dALLdt, [7, 0.19, 0.18, 0.6], t)\n",
    "V = X[:,0]\n",
    "m = X[:,1]\n",
    "h = X[:,2]\n",
    "n = X[:,3]\n",
    "ina = I_Na(V,m,h)\n",
    "ik = I_K(V, n)\n",
    "il = I_L(V)"
   ]
  },
  {
   "cell_type": "code",
   "execution_count": 55,
   "metadata": {},
   "outputs": [
    {
     "data": {
      "text/plain": [
       "<Figure size 432x288 with 0 Axes>"
      ]
     },
     "execution_count": 55,
     "metadata": {},
     "output_type": "execute_result"
    },
    {
     "data": {
      "text/plain": [
       "<Figure size 432x288 with 0 Axes>"
      ]
     },
     "metadata": {},
     "output_type": "display_data"
    }
   ],
   "source": [
    "plt.figure()"
   ]
  },
  {
   "cell_type": "code",
   "execution_count": 56,
   "metadata": {},
   "outputs": [
    {
     "data": {
      "text/plain": [
       "Text(0, 0.5, 'V (mV)')"
      ]
     },
     "execution_count": 56,
     "metadata": {},
     "output_type": "execute_result"
    },
    {
     "data": {
      "image/png": "[encoded data removed]",
      "text/plain": [
       "<Figure size 432x288 with 1 Axes>"
      ]
     },
     "metadata": {
      "needs_background": "light"
     },
     "output_type": "display_data"
    }
   ],
   "source": [
    "plt.subplot(1,1,1)\n",
    "plt.plot(t, V, 'k')\n",
    "plt.ylabel('V (mV)')"
   ]
  },
  {
   "cell_type": "code",
   "execution_count": 57,
   "metadata": {},
   "outputs": [
    {
     "data": {
      "text/plain": [
       "<matplotlib.legend.Legend at 0x17c8c02d7c0>"
      ]
     },
     "execution_count": 57,
     "metadata": {},
     "output_type": "execute_result"
    },
    {
     "data": {
      "image/png": "[encoded data removed]",
      "text/plain": [
       "<Figure size 432x288 with 1 Axes>"
      ]
     },
     "metadata": {
      "needs_background": "light"
     },
     "output_type": "display_data"
    }
   ],
   "source": [
    "plt.subplot(1,1,1)\n",
    "plt.plot(t, ina, 'c', label='$I_{Na}$')\n",
    "plt.plot(t, ik, 'y', label='$I_{K}$')\n",
    "plt.plot(t, il, 'm', label='$I_{L}$')\n",
    "plt.ylabel('Current')\n",
    "plt.legend()"
   ]
  },
  {
   "cell_type": "code",
   "execution_count": 59,
   "metadata": {},
   "outputs": [
    {
     "data": {
      "text/plain": [
       "<matplotlib.legend.Legend at 0x17c8c0d1eb0>"
      ]
     },
     "execution_count": 59,
     "metadata": {},
     "output_type": "execute_result"
    },
    {
     "data": {
      "image/png": "[encoded data removed]",
      "text/plain": [
       "<Figure size 432x288 with 1 Axes>"
      ]
     },
     "metadata": {
      "needs_background": "light"
     },
     "output_type": "display_data"
    }
   ],
   "source": [
    "plt.subplot(1,1,1)\n",
    "plt.plot(t, m, 'r', label='m')\n",
    "plt.plot(t, h, 'g', label='h')\n",
    "plt.plot(t, n, 'b', label='n')\n",
    "plt.ylabel('Gating Value')\n",
    "plt.legend()"
   ]
  },
  {
   "cell_type": "code",
   "execution_count": 60,
   "metadata": {},
   "outputs": [
    {
     "data": {
      "text/plain": [
       "(-1, 31)"
      ]
     },
     "execution_count": 60,
     "metadata": {},
     "output_type": "execute_result"
    },
    {
     "data": {
      "image/png": "[encoded data removed]",
      "text/plain": [
       "<Figure size 432x288 with 1 Axes>"
      ]
     },
     "metadata": {
      "needs_background": "light"
     },
     "output_type": "display_data"
    }
   ],
   "source": [
    "plt.subplot(1,1,1)\n",
    "plt.plot(t, I_inj(t), 'k')\n",
    "plt.xlabel('t (ms)')\n",
    "plt.ylabel('$I_{inj}$ ($\\\\mu{A}/cm^2$)')\n",
    "plt.ylim(-1, 31)"
   ]
  }
 ],
 "metadata": {
  "kernelspec": {
   "display_name": "Python 3",
   "language": "python",
   "name": "python3"
  },
  "language_info": {
   "codemirror_mode": {
    "name": "ipython",
    "version": 3
   },
   "file_extension": ".py",
   "mimetype": "text/x-python",
   "name": "python",
   "nbconvert_exporter": "python",
   "pygments_lexer": "ipython3",
   "version": "3.8.5"
  }
 },
 "nbformat": 4,
 "nbformat_minor": 4
}
