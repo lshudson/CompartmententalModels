{
 "cells": [
  {
   "cell_type": "code",
   "execution_count": 1,
   "metadata": {},
   "outputs": [],
   "source": [
    "import numpy as np\n",
    "from scipy.integrate import odeint\n",
    "import matplotlib.pyplot as plt\n",
    "from matplotlib import pyplot\n",
    "import math"
   ]
  },
  {
   "cell_type": "code",
   "execution_count": 2,
   "metadata": {},
   "outputs": [],
   "source": [
    "def hodgkinhuxley(state,t):\n",
    "    v = state[0]\n",
    "    y = state[1]\n",
    "    m = state[2]\n",
    "    h = state[3]\n",
    "    \n",
    "    # Channel Gating Kinetics for Potassium (K) channel n\n",
    "    # n is the activation variable for the Potassium (K) Channel\n",
    "    # Potassium channel does not inactivate, so there is no inactivation variable\n",
    "    a_n = 0.01*(10-v)/(np.exp((10-v)/10)-1)\n",
    "    b_n = 0.125*np.exp(-v/80)\n",
    "    \n",
    "    # Channel Gating Kinetics for Sodium (Na) Channel m\n",
    "    # m is the activation variable for the Sodium (Na) Channel\n",
    "    a_m = 0.1*(25-v)/(np.exp((25-v)/10)-1)\n",
    "    b_m = 4*np.exp(-v/18)\n",
    "    \n",
    "    # Channel Gating Kinetics for Sodium (Na) Channel h\n",
    "    # h is the inactivation variable for the Sodium (Na) Channel\n",
    "    b_h = 1/(np.exp((30-v)/10)+1)    #should be +1?\n",
    "    a_h = 0.07*np.exp(-v/20)\n",
    "    \n",
    "    # Channel reversal potentials\n",
    "    V_Na = 115\n",
    "    V_K = -72\n",
    "    V_L = -60\n",
    "    \n",
    "    # Sodium maximum channel conductance\n",
    "    gbar_Na = 0.4\n",
    "    g_Na = gbar_Na * h * m**3\n",
    "    \n",
    "    # Potassium maximum channel conductance\n",
    "    gbar_K = 0.37\n",
    "    g_K = gbar_K * (y**4)\n",
    "    \n",
    "    # Leakage channel conductance\n",
    "    gbar_L = 0.0328\n",
    "    \n",
    "    # Membrane capacitance\n",
    "    C_m = 0.77\n",
    "    \n",
    "    # Channel currents\n",
    "    I_Na = g_Na * (v-V_Na)\n",
    "    I_K = g_K * (v-V_K)\n",
    "    I_L = gbar_L\n",
    "    I_app = 10\n",
    "    \n",
    "    # Differential Equations\n",
    "    dvdt = (-I_Na - I_K - I_L + I_app)/C_m\n",
    "    dndt = a_n*(1-y) - b_n*y\n",
    "    dmdt = a_m*(1-m) - b_m*m\n",
    "    dhdt = a_h*(1-h) - b_h*h\n",
    "    \n",
    "    return dvdt, dndt, dmdt, dhdt"
   ]
  },
  {
   "cell_type": "code",
   "execution_count": 9,
   "metadata": {},
   "outputs": [
    {
     "data": {
      "image/png": "[encoded data removed]",
      "text/plain": [
       "<Figure size 432x288 with 1 Axes>"
      ]
     },
     "metadata": {
      "needs_background": "light"
     },
     "output_type": "display_data"
    }
   ],
   "source": [
    "t = np.arange(0,30,.001)\n",
    "state0 = [0, 0.28, 0.05, 0.6]\n",
    "state = odeint(hodgkinhuxley, state0, t)\n",
    "plt.plot(t,state[:,0]-56)\n",
    "pyplot.xlabel('Time (ms)')\n",
    "pyplot.ylabel('Membrane Potential (mV)')\n",
    "plt.show()"
   ]
  }
 ],
 "metadata": {
  "kernelspec": {
   "display_name": "Python 3",
   "language": "python",
   "name": "python3"
  },
  "language_info": {
   "codemirror_mode": {
    "name": "ipython",
    "version": 3
   },
   "file_extension": ".py",
   "mimetype": "text/x-python",
   "name": "python",
   "nbconvert_exporter": "python",
   "pygments_lexer": "ipython3",
   "version": "3.8.5"
  }
 },
 "nbformat": 4,
 "nbformat_minor": 4
}
